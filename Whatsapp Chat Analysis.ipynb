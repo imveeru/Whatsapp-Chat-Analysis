{
 "cells": [
  {
   "cell_type": "markdown",
   "id": "58c027d3",
   "metadata": {},
   "source": [
    "# Whatsapp Chat Analysis"
   ]
  },
  {
   "cell_type": "code",
   "execution_count": 7,
   "id": "8ebfaf6a",
   "metadata": {},
   "outputs": [],
   "source": [
    "import numpy as np\n",
    "import pandas as pd\n",
    "import regex\n",
    "import emoji\n",
    "from collections import Counter\n",
    "import matplotlib.pyplot as plt\n",
    "#from wordcloud import WordCloud, STOPWORDS, ImageColorGenerator"
   ]
  },
  {
   "cell_type": "markdown",
   "id": "9213c767",
   "metadata": {},
   "source": [
    "## Extraction Functions"
   ]
  },
  {
   "cell_type": "code",
   "execution_count": 8,
   "id": "938a1bea",
   "metadata": {},
   "outputs": [],
   "source": [
    "def date_time(s):\n",
    "    pattern = '^([0-9]+)(\\/)([0-9]+)(\\/)([0-9]+), ([0-9]+):([0-9]+)[ ]?(AM|PM|am|pm)? -'\n",
    "    result = regex.match(pattern, s)\n",
    "    if result:\n",
    "        return True\n",
    "    return False\n",
    "\n",
    "def find_author(s):\n",
    "    s = s.split(\":\")\n",
    "    if len(s)==2:\n",
    "        return True\n",
    "    else:\n",
    "        return False"
   ]
  },
  {
   "cell_type": "code",
   "execution_count": 9,
   "id": "56dda5cf",
   "metadata": {},
   "outputs": [],
   "source": [
    "def getDatapoint(line):\n",
    "    splitline = line.split(' - ')\n",
    "    dateTime = splitline[0]\n",
    "    date, time = dateTime.split(\", \")\n",
    "    message = \" \".join(splitline[1:])\n",
    "    if find_author(message):\n",
    "        splitmessage = message.split(\": \")\n",
    "        author = splitmessage[0]\n",
    "        message = \" \".join(splitmessage[1:])\n",
    "    else:\n",
    "        author= None\n",
    "    return date, time, author, message"
   ]
  },
  {
   "cell_type": "markdown",
   "id": "87bb4b76",
   "metadata": {},
   "source": [
    "## Importing Data"
   ]
  },
  {
   "cell_type": "code",
   "execution_count": 10,
   "id": "82733552",
   "metadata": {},
   "outputs": [],
   "source": [
    "data = []\n",
    "conversation = 'WhatsApp Chat with Anubharathy.txt'\n",
    "with open(conversation, encoding=\"utf-8\") as fp:\n",
    "    fp.readline()\n",
    "    messageBuffer = []\n",
    "    date, time, author = None, None, None\n",
    "    while True:\n",
    "        line = fp.readline()\n",
    "        if not line:\n",
    "            break\n",
    "        line = line.strip()\n",
    "        if date_time(line):\n",
    "            if len(messageBuffer) > 0:\n",
    "                data.append([date, time, author, ' '.join(messageBuffer)])\n",
    "            messageBuffer.clear()\n",
    "            date, time, author, message = getDatapoint(line)\n",
    "            messageBuffer.append(message)\n",
    "        else:\n",
    "            messageBuffer.append(line)"
   ]
  },
  {
   "cell_type": "code",
   "execution_count": 11,
   "id": "dc2e8d18",
   "metadata": {},
   "outputs": [],
   "source": [
    "chat_df = pd.DataFrame(data, columns=[\"Date\", 'Time', 'Author', 'Message'])\n",
    "chat_df['Date'] = pd.to_datetime(chat_df['Date'])"
   ]
  },
  {
   "cell_type": "markdown",
   "id": "bc2d257a",
   "metadata": {},
   "source": [
    "## Exploring Data"
   ]
  },
  {
   "cell_type": "code",
   "execution_count": 12,
   "id": "ed8804e1",
   "metadata": {},
   "outputs": [
    {
     "data": {
      "text/html": [
       "<div>\n",
       "<style scoped>\n",
       "    .dataframe tbody tr th:only-of-type {\n",
       "        vertical-align: middle;\n",
       "    }\n",
       "\n",
       "    .dataframe tbody tr th {\n",
       "        vertical-align: top;\n",
       "    }\n",
       "\n",
       "    .dataframe thead th {\n",
       "        text-align: right;\n",
       "    }\n",
       "</style>\n",
       "<table border=\"1\" class=\"dataframe\">\n",
       "  <thead>\n",
       "    <tr style=\"text-align: right;\">\n",
       "      <th></th>\n",
       "      <th>Date</th>\n",
       "      <th>Time</th>\n",
       "      <th>Author</th>\n",
       "      <th>Message</th>\n",
       "    </tr>\n",
       "  </thead>\n",
       "  <tbody>\n",
       "    <tr>\n",
       "      <th>0</th>\n",
       "      <td>2021-01-01</td>\n",
       "      <td>10:16 AM</td>\n",
       "      <td>Anubharathy</td>\n",
       "      <td>Tq... Same to u😁</td>\n",
       "    </tr>\n",
       "    <tr>\n",
       "      <th>1</th>\n",
       "      <td>2021-01-01</td>\n",
       "      <td>12:15 PM</td>\n",
       "      <td>Veeramanohar</td>\n",
       "      <td>Haa Gm</td>\n",
       "    </tr>\n",
       "    <tr>\n",
       "      <th>2</th>\n",
       "      <td>2021-01-01</td>\n",
       "      <td>3:03 PM</td>\n",
       "      <td>Anubharathy</td>\n",
       "      <td>Gm</td>\n",
       "    </tr>\n",
       "    <tr>\n",
       "      <th>3</th>\n",
       "      <td>2021-01-01</td>\n",
       "      <td>9:26 PM</td>\n",
       "      <td>Veeramanohar</td>\n",
       "      <td>Oii.. inaiku day epdi pochu ?!</td>\n",
       "    </tr>\n",
       "    <tr>\n",
       "      <th>4</th>\n",
       "      <td>2021-01-01</td>\n",
       "      <td>11:05 PM</td>\n",
       "      <td>Anubharathy</td>\n",
       "      <td>Asusual</td>\n",
       "    </tr>\n",
       "  </tbody>\n",
       "</table>\n",
       "</div>"
      ],
      "text/plain": [
       "        Date      Time        Author                         Message\n",
       "0 2021-01-01  10:16 AM   Anubharathy                Tq... Same to u😁\n",
       "1 2021-01-01  12:15 PM  Veeramanohar                          Haa Gm\n",
       "2 2021-01-01   3:03 PM   Anubharathy                              Gm\n",
       "3 2021-01-01   9:26 PM  Veeramanohar  Oii.. inaiku day epdi pochu ?!\n",
       "4 2021-01-01  11:05 PM   Anubharathy                         Asusual"
      ]
     },
     "execution_count": 12,
     "metadata": {},
     "output_type": "execute_result"
    }
   ],
   "source": [
    "chat_df.head()"
   ]
  },
  {
   "cell_type": "code",
   "execution_count": 14,
   "id": "751e5297",
   "metadata": {},
   "outputs": [
    {
     "data": {
      "text/html": [
       "<div>\n",
       "<style scoped>\n",
       "    .dataframe tbody tr th:only-of-type {\n",
       "        vertical-align: middle;\n",
       "    }\n",
       "\n",
       "    .dataframe tbody tr th {\n",
       "        vertical-align: top;\n",
       "    }\n",
       "\n",
       "    .dataframe thead th {\n",
       "        text-align: right;\n",
       "    }\n",
       "</style>\n",
       "<table border=\"1\" class=\"dataframe\">\n",
       "  <thead>\n",
       "    <tr style=\"text-align: right;\">\n",
       "      <th></th>\n",
       "      <th>Date</th>\n",
       "      <th>Time</th>\n",
       "      <th>Author</th>\n",
       "      <th>Message</th>\n",
       "    </tr>\n",
       "  </thead>\n",
       "  <tbody>\n",
       "    <tr>\n",
       "      <th>11052</th>\n",
       "      <td>2021-10-13</td>\n",
       "      <td>4:07 PM</td>\n",
       "      <td>Veeramanohar</td>\n",
       "      <td>11am ku Gn ah 😂</td>\n",
       "    </tr>\n",
       "    <tr>\n",
       "      <th>11053</th>\n",
       "      <td>2021-10-13</td>\n",
       "      <td>4:07 PM</td>\n",
       "      <td>Veeramanohar</td>\n",
       "      <td>Saptiya?</td>\n",
       "    </tr>\n",
       "    <tr>\n",
       "      <th>11054</th>\n",
       "      <td>2021-10-13</td>\n",
       "      <td>6:19 PM</td>\n",
       "      <td>Anubharathy</td>\n",
       "      <td>Haa</td>\n",
       "    </tr>\n",
       "    <tr>\n",
       "      <th>11055</th>\n",
       "      <td>2021-10-13</td>\n",
       "      <td>6:19 PM</td>\n",
       "      <td>Anubharathy</td>\n",
       "      <td>*gm</td>\n",
       "    </tr>\n",
       "    <tr>\n",
       "      <th>11056</th>\n",
       "      <td>2021-10-13</td>\n",
       "      <td>7:40 PM</td>\n",
       "      <td>Veeramanohar</td>\n",
       "      <td>haa</td>\n",
       "    </tr>\n",
       "  </tbody>\n",
       "</table>\n",
       "</div>"
      ],
      "text/plain": [
       "            Date     Time        Author          Message\n",
       "11052 2021-10-13  4:07 PM  Veeramanohar  11am ku Gn ah 😂\n",
       "11053 2021-10-13  4:07 PM  Veeramanohar         Saptiya?\n",
       "11054 2021-10-13  6:19 PM   Anubharathy              Haa\n",
       "11055 2021-10-13  6:19 PM   Anubharathy              *gm\n",
       "11056 2021-10-13  7:40 PM  Veeramanohar              haa"
      ]
     },
     "execution_count": 14,
     "metadata": {},
     "output_type": "execute_result"
    }
   ],
   "source": [
    "chat_df.tail()"
   ]
  },
  {
   "cell_type": "code",
   "execution_count": 15,
   "id": "6e0db9c9",
   "metadata": {},
   "outputs": [
    {
     "name": "stdout",
     "output_type": "stream",
     "text": [
      "<class 'pandas.core.frame.DataFrame'>\n",
      "RangeIndex: 11057 entries, 0 to 11056\n",
      "Data columns (total 4 columns):\n",
      " #   Column   Non-Null Count  Dtype         \n",
      "---  ------   --------------  -----         \n",
      " 0   Date     11057 non-null  datetime64[ns]\n",
      " 1   Time     11057 non-null  object        \n",
      " 2   Author   11014 non-null  object        \n",
      " 3   Message  11057 non-null  object        \n",
      "dtypes: datetime64[ns](1), object(3)\n",
      "memory usage: 345.7+ KB\n"
     ]
    }
   ],
   "source": [
    "chat_df.info()"
   ]
  },
  {
   "cell_type": "code",
   "execution_count": 17,
   "id": "eb67ab43",
   "metadata": {},
   "outputs": [
    {
     "data": {
      "text/plain": [
       "array(['Anubharathy', 'Veeramanohar', None], dtype=object)"
      ]
     },
     "execution_count": 17,
     "metadata": {},
     "output_type": "execute_result"
    }
   ],
   "source": [
    "chat_df.Author.unique()"
   ]
  }
 ],
 "metadata": {
  "kernelspec": {
   "display_name": "Python 3 (ipykernel)",
   "language": "python",
   "name": "python3"
  },
  "language_info": {
   "codemirror_mode": {
    "name": "ipython",
    "version": 3
   },
   "file_extension": ".py",
   "mimetype": "text/x-python",
   "name": "python",
   "nbconvert_exporter": "python",
   "pygments_lexer": "ipython3",
   "version": "3.9.7"
  }
 },
 "nbformat": 4,
 "nbformat_minor": 5
}
