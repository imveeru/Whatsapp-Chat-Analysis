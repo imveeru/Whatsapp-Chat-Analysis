{
 "cells": [
  {
   "cell_type": "markdown",
   "id": "ec9d17f4",
   "metadata": {},
   "source": [
    "# Whatsapp Chat Analysis"
   ]
  },
  {
   "cell_type": "code",
   "execution_count": 179,
   "id": "f350e28d",
   "metadata": {},
   "outputs": [],
   "source": [
    "import numpy as np\n",
    "import pandas as pd\n",
    "import regex\n",
    "import emoji\n",
    "from collections import Counter\n",
    "import matplotlib.pyplot as plt\n",
    "#from wordcloud import WordCloud, STOPWORDS, ImageColorGenerator"
   ]
  },
  {
   "cell_type": "markdown",
   "id": "9f46ee53",
   "metadata": {},
   "source": [
    "## Extraction Functions"
   ]
  },
  {
   "cell_type": "code",
   "execution_count": 229,
   "id": "51e88739",
   "metadata": {},
   "outputs": [],
   "source": [
    "def date_time(s):\n",
    "    pattern = '^([0-9]+)(\\/)([0-9]+)(\\/)([0-9]+), ([0-9]+):([0-9]+)[ ]?(AM|PM|am|pm)? -'\n",
    "    result = regex.match(pattern, s)\n",
    "    if result:\n",
    "        return True\n",
    "    return False\n",
    "\n",
    "def find_author(s):\n",
    "    s = s.split(\":\")\n",
    "    if len(s)==2:\n",
    "        return True\n",
    "    else:\n",
    "        return False"
   ]
  },
  {
   "cell_type": "code",
   "execution_count": 230,
   "id": "742148e1",
   "metadata": {},
   "outputs": [],
   "source": [
    "def getDatapoint(line):\n",
    "    splitline = line.split(' - ')\n",
    "    dateTime = splitline[0]\n",
    "    date, time = dateTime.split(\", \")\n",
    "    message = \" \".join(splitline[1:])\n",
    "    if find_author(message):\n",
    "        splitmessage = message.split(\": \")\n",
    "        author = splitmessage[0]\n",
    "        message = \" \".join(splitmessage[1:])\n",
    "    else:\n",
    "        author= None\n",
    "    return date, time, author, message"
   ]
  },
  {
   "cell_type": "markdown",
   "id": "ed2c8c6b",
   "metadata": {},
   "source": [
    "## Importing Data"
   ]
  },
  {
   "cell_type": "code",
   "execution_count": 231,
   "id": "810ad6af",
   "metadata": {},
   "outputs": [],
   "source": [
    "data = []\n",
    "conversation = 'WhatsApp Chat with Anubharathy.txt'\n",
    "with open(conversation, encoding=\"utf-8\") as fp:\n",
    "    fp.readline()\n",
    "    messageBuffer = []\n",
    "    date, time, author = None, None, None\n",
    "    while True:\n",
    "        line = fp.readline()\n",
    "        if not line:\n",
    "            break\n",
    "        line = line.strip()\n",
    "        if date_time(line):\n",
    "            if len(messageBuffer) > 0:\n",
    "                data.append([date, time, author, ' '.join(messageBuffer)])\n",
    "            messageBuffer.clear()\n",
    "            date, time, author, message = getDatapoint(line)\n",
    "            messageBuffer.append(message)\n",
    "        else:\n",
    "            messageBuffer.append(line)"
   ]
  },
  {
   "cell_type": "code",
   "execution_count": 232,
   "id": "d6686b93",
   "metadata": {},
   "outputs": [],
   "source": [
    "chat_df = pd.DataFrame(data, columns=[\"Date\", 'Time', 'Author', 'Message'])\n",
    "chat_df['Date'] = pd.to_datetime(chat_df['Date'])"
   ]
  },
  {
   "cell_type": "markdown",
   "id": "59a639f9",
   "metadata": {},
   "source": [
    "## Exploring Data"
   ]
  },
  {
   "cell_type": "code",
   "execution_count": 234,
   "id": "5dd4abe7",
   "metadata": {},
   "outputs": [
    {
     "data": {
      "text/html": [
       "<div>\n",
       "<style scoped>\n",
       "    .dataframe tbody tr th:only-of-type {\n",
       "        vertical-align: middle;\n",
       "    }\n",
       "\n",
       "    .dataframe tbody tr th {\n",
       "        vertical-align: top;\n",
       "    }\n",
       "\n",
       "    .dataframe thead th {\n",
       "        text-align: right;\n",
       "    }\n",
       "</style>\n",
       "<table border=\"1\" class=\"dataframe\">\n",
       "  <thead>\n",
       "    <tr style=\"text-align: right;\">\n",
       "      <th></th>\n",
       "      <th>Date</th>\n",
       "      <th>Time</th>\n",
       "      <th>Author</th>\n",
       "      <th>Message</th>\n",
       "    </tr>\n",
       "  </thead>\n",
       "  <tbody>\n",
       "    <tr>\n",
       "      <th>0</th>\n",
       "      <td>2021-01-01</td>\n",
       "      <td>10:16 AM</td>\n",
       "      <td>Anubharathy</td>\n",
       "      <td>Tq... Same to u😁</td>\n",
       "    </tr>\n",
       "    <tr>\n",
       "      <th>1</th>\n",
       "      <td>2021-01-01</td>\n",
       "      <td>12:15 PM</td>\n",
       "      <td>Veeramanohar</td>\n",
       "      <td>Haa Gm</td>\n",
       "    </tr>\n",
       "    <tr>\n",
       "      <th>2</th>\n",
       "      <td>2021-01-01</td>\n",
       "      <td>3:03 PM</td>\n",
       "      <td>Anubharathy</td>\n",
       "      <td>Gm</td>\n",
       "    </tr>\n",
       "    <tr>\n",
       "      <th>3</th>\n",
       "      <td>2021-01-01</td>\n",
       "      <td>9:26 PM</td>\n",
       "      <td>Veeramanohar</td>\n",
       "      <td>Oii.. inaiku day epdi pochu ?!</td>\n",
       "    </tr>\n",
       "    <tr>\n",
       "      <th>4</th>\n",
       "      <td>2021-01-01</td>\n",
       "      <td>11:05 PM</td>\n",
       "      <td>Anubharathy</td>\n",
       "      <td>Asusual</td>\n",
       "    </tr>\n",
       "  </tbody>\n",
       "</table>\n",
       "</div>"
      ],
      "text/plain": [
       "        Date      Time        Author                         Message\n",
       "0 2021-01-01  10:16 AM   Anubharathy                Tq... Same to u😁\n",
       "1 2021-01-01  12:15 PM  Veeramanohar                          Haa Gm\n",
       "2 2021-01-01   3:03 PM   Anubharathy                              Gm\n",
       "3 2021-01-01   9:26 PM  Veeramanohar  Oii.. inaiku day epdi pochu ?!\n",
       "4 2021-01-01  11:05 PM   Anubharathy                         Asusual"
      ]
     },
     "execution_count": 234,
     "metadata": {},
     "output_type": "execute_result"
    }
   ],
   "source": [
    "chat_df.head()"
   ]
  },
  {
   "cell_type": "code",
   "execution_count": 217,
   "id": "83a99b00",
   "metadata": {},
   "outputs": [
    {
     "data": {
      "text/html": [
       "<div>\n",
       "<style scoped>\n",
       "    .dataframe tbody tr th:only-of-type {\n",
       "        vertical-align: middle;\n",
       "    }\n",
       "\n",
       "    .dataframe tbody tr th {\n",
       "        vertical-align: top;\n",
       "    }\n",
       "\n",
       "    .dataframe thead th {\n",
       "        text-align: right;\n",
       "    }\n",
       "</style>\n",
       "<table border=\"1\" class=\"dataframe\">\n",
       "  <thead>\n",
       "    <tr style=\"text-align: right;\">\n",
       "      <th></th>\n",
       "      <th>Date</th>\n",
       "      <th>Time</th>\n",
       "      <th>Author</th>\n",
       "      <th>Message</th>\n",
       "    </tr>\n",
       "  </thead>\n",
       "  <tbody>\n",
       "    <tr>\n",
       "      <th>11052</th>\n",
       "      <td>2021-10-13</td>\n",
       "      <td>4:07 PM</td>\n",
       "      <td>Veeramanohar</td>\n",
       "      <td>11am ku Gn ah 😂</td>\n",
       "    </tr>\n",
       "    <tr>\n",
       "      <th>11053</th>\n",
       "      <td>2021-10-13</td>\n",
       "      <td>4:07 PM</td>\n",
       "      <td>Veeramanohar</td>\n",
       "      <td>Saptiya?</td>\n",
       "    </tr>\n",
       "    <tr>\n",
       "      <th>11054</th>\n",
       "      <td>2021-10-13</td>\n",
       "      <td>6:19 PM</td>\n",
       "      <td>Anubharathy</td>\n",
       "      <td>Haa</td>\n",
       "    </tr>\n",
       "    <tr>\n",
       "      <th>11055</th>\n",
       "      <td>2021-10-13</td>\n",
       "      <td>6:19 PM</td>\n",
       "      <td>Anubharathy</td>\n",
       "      <td>*gm</td>\n",
       "    </tr>\n",
       "    <tr>\n",
       "      <th>11056</th>\n",
       "      <td>2021-10-13</td>\n",
       "      <td>7:40 PM</td>\n",
       "      <td>Veeramanohar</td>\n",
       "      <td>haa</td>\n",
       "    </tr>\n",
       "  </tbody>\n",
       "</table>\n",
       "</div>"
      ],
      "text/plain": [
       "            Date     Time        Author          Message\n",
       "11052 2021-10-13  4:07 PM  Veeramanohar  11am ku Gn ah 😂\n",
       "11053 2021-10-13  4:07 PM  Veeramanohar         Saptiya?\n",
       "11054 2021-10-13  6:19 PM   Anubharathy              Haa\n",
       "11055 2021-10-13  6:19 PM   Anubharathy              *gm\n",
       "11056 2021-10-13  7:40 PM  Veeramanohar              haa"
      ]
     },
     "execution_count": 217,
     "metadata": {},
     "output_type": "execute_result"
    }
   ],
   "source": [
    "chat_df.tail()"
   ]
  },
  {
   "cell_type": "code",
   "execution_count": 186,
   "id": "b785826e",
   "metadata": {},
   "outputs": [
    {
     "name": "stdout",
     "output_type": "stream",
     "text": [
      "<class 'pandas.core.frame.DataFrame'>\n",
      "RangeIndex: 11057 entries, 0 to 11056\n",
      "Data columns (total 4 columns):\n",
      " #   Column   Non-Null Count  Dtype         \n",
      "---  ------   --------------  -----         \n",
      " 0   Date     11057 non-null  datetime64[ns]\n",
      " 1   Time     11057 non-null  object        \n",
      " 2   Author   11014 non-null  object        \n",
      " 3   Message  11057 non-null  object        \n",
      "dtypes: datetime64[ns](1), object(3)\n",
      "memory usage: 345.7+ KB\n"
     ]
    }
   ],
   "source": [
    "chat_df.info()"
   ]
  },
  {
   "cell_type": "code",
   "execution_count": 187,
   "id": "f50c6f95",
   "metadata": {},
   "outputs": [
    {
     "data": {
      "text/plain": [
       "array(['Anubharathy', 'Veeramanohar', None], dtype=object)"
      ]
     },
     "execution_count": 187,
     "metadata": {},
     "output_type": "execute_result"
    }
   ],
   "source": [
    "authors=chat_df.Author.unique()\n",
    "authors"
   ]
  },
  {
   "cell_type": "code",
   "execution_count": 188,
   "id": "e39230b8",
   "metadata": {},
   "outputs": [
    {
     "data": {
      "text/plain": [
       "11057"
      ]
     },
     "execution_count": 188,
     "metadata": {},
     "output_type": "execute_result"
    }
   ],
   "source": [
    "total_messages=chat_df.shape[0]\n",
    "total_messages"
   ]
  },
  {
   "cell_type": "code",
   "execution_count": 189,
   "id": "bd96be00",
   "metadata": {},
   "outputs": [
    {
     "data": {
      "text/plain": [
       "358"
      ]
     },
     "execution_count": 189,
     "metadata": {},
     "output_type": "execute_result"
    }
   ],
   "source": [
    "media_messages = chat_df[chat_df[\"Message\"]=='<Media omitted>'].shape[0]\n",
    "media_messages"
   ]
  },
  {
   "cell_type": "markdown",
   "id": "eeebf8af",
   "metadata": {},
   "source": [
    "### Extracting Emojis"
   ]
  },
  {
   "cell_type": "code",
   "execution_count": 190,
   "id": "6d6acf1a",
   "metadata": {},
   "outputs": [
    {
     "data": {
      "text/plain": [
       "824"
      ]
     },
     "execution_count": 190,
     "metadata": {},
     "output_type": "execute_result"
    }
   ],
   "source": [
    "def split_count(text):\n",
    "    emoji_list = []\n",
    "    data = regex.findall(r'\\X',text)\n",
    "    for word in data:\n",
    "        if any(char in emoji.UNICODE_EMOJI_ENGLISH for char in word):\n",
    "            emoji_list.append(word)\n",
    "    return emoji_list\n",
    "\n",
    "chat_df['emoji'] = chat_df[\"Message\"].apply(split_count)\n",
    "\n",
    "emojis = sum(chat_df['emoji'].str.len())\n",
    "emojis"
   ]
  },
  {
   "cell_type": "code",
   "execution_count": 191,
   "id": "9da2b45e",
   "metadata": {},
   "outputs": [
    {
     "data": {
      "text/html": [
       "<div>\n",
       "<style scoped>\n",
       "    .dataframe tbody tr th:only-of-type {\n",
       "        vertical-align: middle;\n",
       "    }\n",
       "\n",
       "    .dataframe tbody tr th {\n",
       "        vertical-align: top;\n",
       "    }\n",
       "\n",
       "    .dataframe thead th {\n",
       "        text-align: right;\n",
       "    }\n",
       "</style>\n",
       "<table border=\"1\" class=\"dataframe\">\n",
       "  <thead>\n",
       "    <tr style=\"text-align: right;\">\n",
       "      <th></th>\n",
       "      <th>Date</th>\n",
       "      <th>Time</th>\n",
       "      <th>Author</th>\n",
       "      <th>Message</th>\n",
       "      <th>emoji</th>\n",
       "    </tr>\n",
       "  </thead>\n",
       "  <tbody>\n",
       "    <tr>\n",
       "      <th>0</th>\n",
       "      <td>2021-01-01</td>\n",
       "      <td>10:16 AM</td>\n",
       "      <td>Anubharathy</td>\n",
       "      <td>Tq... Same to u😁</td>\n",
       "      <td>[😁]</td>\n",
       "    </tr>\n",
       "  </tbody>\n",
       "</table>\n",
       "</div>"
      ],
      "text/plain": [
       "        Date      Time       Author           Message emoji\n",
       "0 2021-01-01  10:16 AM  Anubharathy  Tq... Same to u😁   [😁]"
      ]
     },
     "execution_count": 191,
     "metadata": {},
     "output_type": "execute_result"
    }
   ],
   "source": [
    "chat_df.head(1)"
   ]
  },
  {
   "cell_type": "markdown",
   "id": "26949994",
   "metadata": {},
   "source": [
    "### Extracting URLs"
   ]
  },
  {
   "cell_type": "code",
   "execution_count": 192,
   "id": "cc1a1fe5",
   "metadata": {},
   "outputs": [
    {
     "data": {
      "text/plain": [
       "35"
      ]
     },
     "execution_count": 192,
     "metadata": {},
     "output_type": "execute_result"
    }
   ],
   "source": [
    "URLPATTERN = r'(https?://\\S+)'\n",
    "chat_df['urlcount'] = chat_df.Message.apply(lambda x: regex.findall(URLPATTERN, x)).str.len()\n",
    "links = np.sum(chat_df.urlcount)\n",
    "links"
   ]
  },
  {
   "cell_type": "markdown",
   "id": "905b8e27",
   "metadata": {},
   "source": [
    "### Stats"
   ]
  },
  {
   "cell_type": "code",
   "execution_count": 193,
   "id": "527da11d",
   "metadata": {},
   "outputs": [
    {
     "name": "stdout",
     "output_type": "stream",
     "text": [
      "Chats between Anubharathy and Veeramanohar\n",
      "Total Messages: 11057\n",
      "Number of Media shared: 358\n",
      "Number of Emojis shared: 824\n",
      "Number of Links shared: 35\n"
     ]
    }
   ],
   "source": [
    "print(f'Chats between {authors[0]} and {authors[1]}')\n",
    "print(f'Total Messages: {total_messages}')\n",
    "print(f'Number of Media shared: {media_messages}')\n",
    "print(f'Number of Emojis shared: {emojis}')\n",
    "print(f'Number of Links shared: {links}')"
   ]
  },
  {
   "cell_type": "code",
   "execution_count": 194,
   "id": "4e35874f",
   "metadata": {},
   "outputs": [
    {
     "data": {
      "text/plain": [
       "358"
      ]
     },
     "execution_count": 194,
     "metadata": {},
     "output_type": "execute_result"
    }
   ],
   "source": [
    "media_messages_df = chat_df[chat_df['Message'] == '<Media omitted>']\n",
    "media_messages_df.shape[0]"
   ]
  },
  {
   "cell_type": "code",
   "execution_count": 195,
   "id": "63ac204c",
   "metadata": {},
   "outputs": [
    {
     "data": {
      "text/plain": [
       "10699"
      ]
     },
     "execution_count": 195,
     "metadata": {},
     "output_type": "execute_result"
    }
   ],
   "source": [
    "messages_df = chat_df.drop(media_messages_df.index)\n",
    "messages_df.shape[0]"
   ]
  },
  {
   "cell_type": "code",
   "execution_count": 196,
   "id": "79d19959",
   "metadata": {},
   "outputs": [],
   "source": [
    "messages_df['Letter_Count'] = messages_df['Message'].apply(lambda s : len(s))"
   ]
  },
  {
   "cell_type": "code",
   "execution_count": 197,
   "id": "66210fe9",
   "metadata": {},
   "outputs": [],
   "source": [
    "messages_df['Word_Count'] = messages_df['Message'].apply(lambda s : len(s.split(' ')))"
   ]
  },
  {
   "cell_type": "code",
   "execution_count": 198,
   "id": "f5991ca0",
   "metadata": {},
   "outputs": [],
   "source": [
    "messages_df[\"MessageCount\"]=1"
   ]
  },
  {
   "cell_type": "code",
   "execution_count": 199,
   "id": "8aef21d4",
   "metadata": {},
   "outputs": [
    {
     "data": {
      "text/html": [
       "<div>\n",
       "<style scoped>\n",
       "    .dataframe tbody tr th:only-of-type {\n",
       "        vertical-align: middle;\n",
       "    }\n",
       "\n",
       "    .dataframe tbody tr th {\n",
       "        vertical-align: top;\n",
       "    }\n",
       "\n",
       "    .dataframe thead th {\n",
       "        text-align: right;\n",
       "    }\n",
       "</style>\n",
       "<table border=\"1\" class=\"dataframe\">\n",
       "  <thead>\n",
       "    <tr style=\"text-align: right;\">\n",
       "      <th></th>\n",
       "      <th>Date</th>\n",
       "      <th>Time</th>\n",
       "      <th>Author</th>\n",
       "      <th>Message</th>\n",
       "      <th>emoji</th>\n",
       "      <th>urlcount</th>\n",
       "      <th>Letter_Count</th>\n",
       "      <th>Word_Count</th>\n",
       "      <th>MessageCount</th>\n",
       "    </tr>\n",
       "  </thead>\n",
       "  <tbody>\n",
       "    <tr>\n",
       "      <th>0</th>\n",
       "      <td>2021-01-01</td>\n",
       "      <td>10:16 AM</td>\n",
       "      <td>Anubharathy</td>\n",
       "      <td>Tq... Same to u😁</td>\n",
       "      <td>[😁]</td>\n",
       "      <td>0</td>\n",
       "      <td>16</td>\n",
       "      <td>4</td>\n",
       "      <td>1</td>\n",
       "    </tr>\n",
       "    <tr>\n",
       "      <th>1</th>\n",
       "      <td>2021-01-01</td>\n",
       "      <td>12:15 PM</td>\n",
       "      <td>Veeramanohar</td>\n",
       "      <td>Haa Gm</td>\n",
       "      <td>[]</td>\n",
       "      <td>0</td>\n",
       "      <td>6</td>\n",
       "      <td>2</td>\n",
       "      <td>1</td>\n",
       "    </tr>\n",
       "    <tr>\n",
       "      <th>2</th>\n",
       "      <td>2021-01-01</td>\n",
       "      <td>3:03 PM</td>\n",
       "      <td>Anubharathy</td>\n",
       "      <td>Gm</td>\n",
       "      <td>[]</td>\n",
       "      <td>0</td>\n",
       "      <td>2</td>\n",
       "      <td>1</td>\n",
       "      <td>1</td>\n",
       "    </tr>\n",
       "    <tr>\n",
       "      <th>3</th>\n",
       "      <td>2021-01-01</td>\n",
       "      <td>9:26 PM</td>\n",
       "      <td>Veeramanohar</td>\n",
       "      <td>Oii.. inaiku day epdi pochu ?!</td>\n",
       "      <td>[]</td>\n",
       "      <td>0</td>\n",
       "      <td>30</td>\n",
       "      <td>6</td>\n",
       "      <td>1</td>\n",
       "    </tr>\n",
       "    <tr>\n",
       "      <th>4</th>\n",
       "      <td>2021-01-01</td>\n",
       "      <td>11:05 PM</td>\n",
       "      <td>Anubharathy</td>\n",
       "      <td>Asusual</td>\n",
       "      <td>[]</td>\n",
       "      <td>0</td>\n",
       "      <td>7</td>\n",
       "      <td>1</td>\n",
       "      <td>1</td>\n",
       "    </tr>\n",
       "  </tbody>\n",
       "</table>\n",
       "</div>"
      ],
      "text/plain": [
       "        Date      Time        Author                         Message emoji  \\\n",
       "0 2021-01-01  10:16 AM   Anubharathy                Tq... Same to u😁   [😁]   \n",
       "1 2021-01-01  12:15 PM  Veeramanohar                          Haa Gm    []   \n",
       "2 2021-01-01   3:03 PM   Anubharathy                              Gm    []   \n",
       "3 2021-01-01   9:26 PM  Veeramanohar  Oii.. inaiku day epdi pochu ?!    []   \n",
       "4 2021-01-01  11:05 PM   Anubharathy                         Asusual    []   \n",
       "\n",
       "   urlcount  Letter_Count  Word_Count  MessageCount  \n",
       "0         0            16           4             1  \n",
       "1         0             6           2             1  \n",
       "2         0             2           1             1  \n",
       "3         0            30           6             1  \n",
       "4         0             7           1             1  "
      ]
     },
     "execution_count": 199,
     "metadata": {},
     "output_type": "execute_result"
    }
   ],
   "source": [
    "messages_df.head()"
   ]
  },
  {
   "cell_type": "code",
   "execution_count": 203,
   "id": "f6597b4c",
   "metadata": {},
   "outputs": [],
   "source": [
    "authors_list=['Anubharathy', 'Veeramanohar']"
   ]
  },
  {
   "cell_type": "code",
   "execution_count": 236,
   "id": "65d98e44",
   "metadata": {},
   "outputs": [
    {
     "name": "stdout",
     "output_type": "stream",
     "text": [
      "Stats of Anubharathy :\n",
      "Messages Sent - 5134\n",
      "Average Words per message - 2.181924425399299\n",
      "Media Messages Sent - 76\n",
      "Emojis Sent - 235\n",
      "\n",
      "Stats of Veeramanohar :\n",
      "Messages Sent - 5522\n",
      "Average Words per message - 4.592176747555234\n",
      "Media Messages Sent - 282\n",
      "Emojis Sent - 586\n",
      "\n"
     ]
    }
   ],
   "source": [
    "for i in range(len(authors_list)):\n",
    "    req_df= messages_df[messages_df[\"Author\"] == authors_list[i]]\n",
    "    print(f'Stats of {authors_list[i]} :')\n",
    "    print(f'Messages Sent - {req_df.shape[0]}')\n",
    "    words_per_message = (np.sum(req_df['Word_Count']))/req_df.shape[0]\n",
    "    print(f'Average Words per message - {words_per_message}')\n",
    "    media = media_messages_df[media_messages_df['Author'] == authors_list[i]].shape[0]\n",
    "    print(f'Media Messages Sent - {media}')\n",
    "    emojis=sum(req_df['emoji'].str.len())\n",
    "    print(f'Emojis Sent - {emojis}\\n')"
   ]
  }
 ],
 "metadata": {
  "kernelspec": {
   "display_name": "Python 3 (ipykernel)",
   "language": "python",
   "name": "python3"
  },
  "language_info": {
   "codemirror_mode": {
    "name": "ipython",
    "version": 3
   },
   "file_extension": ".py",
   "mimetype": "text/x-python",
   "name": "python",
   "nbconvert_exporter": "python",
   "pygments_lexer": "ipython3",
   "version": "3.9.7"
  }
 },
 "nbformat": 4,
 "nbformat_minor": 5
}
